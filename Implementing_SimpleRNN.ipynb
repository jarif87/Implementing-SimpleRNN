{
  "nbformat": 4,
  "nbformat_minor": 0,
  "metadata": {
    "colab": {
      "provenance": []
    },
    "kernelspec": {
      "name": "python3",
      "display_name": "Python 3"
    },
    "language_info": {
      "name": "python"
    }
  },
  "cells": [
    {
      "cell_type": "code",
      "execution_count": 70,
      "metadata": {
        "id": "icPtdhFQJgpN"
      },
      "outputs": [],
      "source": [
        "import torch\n",
        "from torch import nn\n",
        "import matplotlib.pyplot as plt\n",
        "import numpy as np\n",
        "%matplotlib inline"
      ]
    },
    {
      "cell_type": "code",
      "source": [
        "len=50 #number of ovserbation\n",
        "time_step=np.linspace(0,np.pi,len+1)\n",
        "data=np.sin(time_step)\n",
        "data.resize((len+1,1))\n"
      ],
      "metadata": {
        "id": "RqDSWFrUJpND"
      },
      "execution_count": 71,
      "outputs": []
    },
    {
      "cell_type": "code",
      "source": [
        "x=data[: -1] #train_data\n",
        "y=data[1 : ] # target_data"
      ],
      "metadata": {
        "id": "DouFZ-Q5JpRY"
      },
      "execution_count": 72,
      "outputs": []
    },
    {
      "cell_type": "code",
      "source": [
        "x"
      ],
      "metadata": {
        "colab": {
          "base_uri": "https://localhost:8080/"
        },
        "id": "aC62uSnIJpWN",
        "outputId": "0fc91d68-1b6e-43da-aa0a-fb640f1c0545"
      },
      "execution_count": 73,
      "outputs": [
        {
          "output_type": "execute_result",
          "data": {
            "text/plain": [
              "array([[0.        ],\n",
              "       [0.06279052],\n",
              "       [0.12533323],\n",
              "       [0.18738131],\n",
              "       [0.24868989],\n",
              "       [0.30901699],\n",
              "       [0.36812455],\n",
              "       [0.42577929],\n",
              "       [0.48175367],\n",
              "       [0.53582679],\n",
              "       [0.58778525],\n",
              "       [0.63742399],\n",
              "       [0.68454711],\n",
              "       [0.72896863],\n",
              "       [0.77051324],\n",
              "       [0.80901699],\n",
              "       [0.84432793],\n",
              "       [0.87630668],\n",
              "       [0.90482705],\n",
              "       [0.92977649],\n",
              "       [0.95105652],\n",
              "       [0.96858316],\n",
              "       [0.98228725],\n",
              "       [0.9921147 ],\n",
              "       [0.99802673],\n",
              "       [1.        ],\n",
              "       [0.99802673],\n",
              "       [0.9921147 ],\n",
              "       [0.98228725],\n",
              "       [0.96858316],\n",
              "       [0.95105652],\n",
              "       [0.92977649],\n",
              "       [0.90482705],\n",
              "       [0.87630668],\n",
              "       [0.84432793],\n",
              "       [0.80901699],\n",
              "       [0.77051324],\n",
              "       [0.72896863],\n",
              "       [0.68454711],\n",
              "       [0.63742399],\n",
              "       [0.58778525],\n",
              "       [0.53582679],\n",
              "       [0.48175367],\n",
              "       [0.42577929],\n",
              "       [0.36812455],\n",
              "       [0.30901699],\n",
              "       [0.24868989],\n",
              "       [0.18738131],\n",
              "       [0.12533323],\n",
              "       [0.06279052]])"
            ]
          },
          "metadata": {},
          "execution_count": 73
        }
      ]
    },
    {
      "cell_type": "code",
      "source": [
        "y"
      ],
      "metadata": {
        "colab": {
          "base_uri": "https://localhost:8080/"
        },
        "id": "PnnUh2J5JpaT",
        "outputId": "6d4b99f9-53f2-4d8d-d63e-3c0dce8d3010"
      },
      "execution_count": 74,
      "outputs": [
        {
          "output_type": "execute_result",
          "data": {
            "text/plain": [
              "array([[6.27905195e-02],\n",
              "       [1.25333234e-01],\n",
              "       [1.87381315e-01],\n",
              "       [2.48689887e-01],\n",
              "       [3.09016994e-01],\n",
              "       [3.68124553e-01],\n",
              "       [4.25779292e-01],\n",
              "       [4.81753674e-01],\n",
              "       [5.35826795e-01],\n",
              "       [5.87785252e-01],\n",
              "       [6.37423990e-01],\n",
              "       [6.84547106e-01],\n",
              "       [7.28968627e-01],\n",
              "       [7.70513243e-01],\n",
              "       [8.09016994e-01],\n",
              "       [8.44327926e-01],\n",
              "       [8.76306680e-01],\n",
              "       [9.04827052e-01],\n",
              "       [9.29776486e-01],\n",
              "       [9.51056516e-01],\n",
              "       [9.68583161e-01],\n",
              "       [9.82287251e-01],\n",
              "       [9.92114701e-01],\n",
              "       [9.98026728e-01],\n",
              "       [1.00000000e+00],\n",
              "       [9.98026728e-01],\n",
              "       [9.92114701e-01],\n",
              "       [9.82287251e-01],\n",
              "       [9.68583161e-01],\n",
              "       [9.51056516e-01],\n",
              "       [9.29776486e-01],\n",
              "       [9.04827052e-01],\n",
              "       [8.76306680e-01],\n",
              "       [8.44327926e-01],\n",
              "       [8.09016994e-01],\n",
              "       [7.70513243e-01],\n",
              "       [7.28968627e-01],\n",
              "       [6.84547106e-01],\n",
              "       [6.37423990e-01],\n",
              "       [5.87785252e-01],\n",
              "       [5.35826795e-01],\n",
              "       [4.81753674e-01],\n",
              "       [4.25779292e-01],\n",
              "       [3.68124553e-01],\n",
              "       [3.09016994e-01],\n",
              "       [2.48689887e-01],\n",
              "       [1.87381315e-01],\n",
              "       [1.25333234e-01],\n",
              "       [6.27905195e-02],\n",
              "       [1.22464680e-16]])"
            ]
          },
          "metadata": {},
          "execution_count": 74
        }
      ]
    },
    {
      "cell_type": "code",
      "source": [
        "x.shape"
      ],
      "metadata": {
        "colab": {
          "base_uri": "https://localhost:8080/"
        },
        "id": "dTssXDs6Jpey",
        "outputId": "bb31b4c4-336b-4781-cc90-8dde506193db"
      },
      "execution_count": 75,
      "outputs": [
        {
          "output_type": "execute_result",
          "data": {
            "text/plain": [
              "(50, 1)"
            ]
          },
          "metadata": {},
          "execution_count": 75
        }
      ]
    },
    {
      "cell_type": "code",
      "source": [
        "y.shape"
      ],
      "metadata": {
        "colab": {
          "base_uri": "https://localhost:8080/"
        },
        "id": "DLOVRue8JpvB",
        "outputId": "179ac00a-4c30-449f-c3bf-31e60ea02fb0"
      },
      "execution_count": 76,
      "outputs": [
        {
          "output_type": "execute_result",
          "data": {
            "text/plain": [
              "(50, 1)"
            ]
          },
          "metadata": {},
          "execution_count": 76
        }
      ]
    },
    {
      "cell_type": "code",
      "source": [
        "plt.figure(figsize=(10,8))\n",
        "plt.plot(time_step[1 :],x,marker=\">\",color=\"b\",label=\"Feature Data\",linestyle=\"-.\")\n",
        "plt.plot(time_step[1 :],y,marker=\"^\",color=\"g\",label=\"Target Data\",linestyle=\"--\")\n",
        "plt.title(\"Feature Data Vs Target Data\\n\",color=\"black\",fontsize=20)\n",
        "plt.legend(loc=\"best\")\n",
        "plt.show()"
      ],
      "metadata": {
        "colab": {
          "base_uri": "https://localhost:8080/",
          "height": 526
        },
        "id": "3kvgN_SSJpyu",
        "outputId": "bb4eaec3-683e-41b0-cb58-28775ca93e69"
      },
      "execution_count": 77,
      "outputs": [
        {
          "output_type": "display_data",
          "data": {
            "text/plain": [
              "<Figure size 720x576 with 1 Axes>"
            ],
            "image/png": "[encoded data removed]"
          },
          "metadata": {
            "needs_background": "light"
          }
        }
      ]
    },
    {
      "cell_type": "markdown",
      "source": [
        "\n",
        "\n",
        "```\n",
        "* The super() function in Python makes class inheritance more manageable and extensible. \n",
        "* The function returns a temporary object that allows reference to a parent class by the keyword super. \n",
        "* The super() function has two major use cases: To avoid the usage of the super (parent) class explicitly\n",
        "```\n",
        "\n"
      ],
      "metadata": {
        "id": "Q-fp98pwXvfB"
      }
    },
    {
      "cell_type": "code",
      "source": [
        "class RNN(nn.Module):\n",
        "\n",
        "  def __init__(self,input_size,output_size,hidden_dim,num_layer):\n",
        "    super(RNN,self).__init__()\n",
        "    self.hidden_dim=hidden_dim\n",
        "    # self.num_layer=num_layer\n",
        "    # self.input_size=input_size\n",
        "\n",
        "    # self.rnn=nn.RNN(input_size,output_size,hidden_dim,num_layer)\n",
        "    self.rnn = nn.RNN(input_size, hidden_dim, num_layer, batch_first=True)\n",
        "    self.fc = nn.Linear(hidden_dim, output_size)\n",
        "\n",
        "  def forward(self,x,hidden):\n",
        "    batch_size= x.size(0)\n",
        "    out,hidden=self.rnn(x,hidden)\n",
        "    out=out.view(-1,self.hidden_dim)\n",
        "    output=self.fc(out)\n",
        "    return output,hidden\n",
        "\n"
      ],
      "metadata": {
        "id": "giO3X_5IJp34"
      },
      "execution_count": 78,
      "outputs": []
    },
    {
      "cell_type": "code",
      "source": [
        "test_rnn=RNN(input_size=1,output_size=1,hidden_dim=20,num_layer=2)"
      ],
      "metadata": {
        "id": "UwczjxLtJp7x"
      },
      "execution_count": 79,
      "outputs": []
    },
    {
      "cell_type": "code",
      "source": [
        "len=50 #number of ovserbation\n",
        "time_step=np.linspace(0,np.pi,len)\n",
        "data=np.sin(time_step)\n",
        "data.resize((len,1))"
      ],
      "metadata": {
        "id": "YI1lDLaiJp_m"
      },
      "execution_count": 80,
      "outputs": []
    },
    {
      "cell_type": "code",
      "source": [
        "data"
      ],
      "metadata": {
        "id": "8sI38hL1JqDf",
        "colab": {
          "base_uri": "https://localhost:8080/"
        },
        "outputId": "417fdd93-c2ba-43d3-93be-46541ce85355"
      },
      "execution_count": 81,
      "outputs": [
        {
          "output_type": "execute_result",
          "data": {
            "text/plain": [
              "array([[0.00000000e+00],\n",
              "       [6.40702200e-02],\n",
              "       [1.27877162e-01],\n",
              "       [1.91158629e-01],\n",
              "       [2.53654584e-01],\n",
              "       [3.15108218e-01],\n",
              "       [3.75267005e-01],\n",
              "       [4.33883739e-01],\n",
              "       [4.90717552e-01],\n",
              "       [5.45534901e-01],\n",
              "       [5.98110530e-01],\n",
              "       [6.48228395e-01],\n",
              "       [6.95682551e-01],\n",
              "       [7.40277997e-01],\n",
              "       [7.81831482e-01],\n",
              "       [8.20172255e-01],\n",
              "       [8.55142763e-01],\n",
              "       [8.86599306e-01],\n",
              "       [9.14412623e-01],\n",
              "       [9.38468422e-01],\n",
              "       [9.58667853e-01],\n",
              "       [9.74927912e-01],\n",
              "       [9.87181783e-01],\n",
              "       [9.95379113e-01],\n",
              "       [9.99486216e-01],\n",
              "       [9.99486216e-01],\n",
              "       [9.95379113e-01],\n",
              "       [9.87181783e-01],\n",
              "       [9.74927912e-01],\n",
              "       [9.58667853e-01],\n",
              "       [9.38468422e-01],\n",
              "       [9.14412623e-01],\n",
              "       [8.86599306e-01],\n",
              "       [8.55142763e-01],\n",
              "       [8.20172255e-01],\n",
              "       [7.81831482e-01],\n",
              "       [7.40277997e-01],\n",
              "       [6.95682551e-01],\n",
              "       [6.48228395e-01],\n",
              "       [5.98110530e-01],\n",
              "       [5.45534901e-01],\n",
              "       [4.90717552e-01],\n",
              "       [4.33883739e-01],\n",
              "       [3.75267005e-01],\n",
              "       [3.15108218e-01],\n",
              "       [2.53654584e-01],\n",
              "       [1.91158629e-01],\n",
              "       [1.27877162e-01],\n",
              "       [6.40702200e-02],\n",
              "       [1.22464680e-16]])"
            ]
          },
          "metadata": {},
          "execution_count": 81
        }
      ]
    },
    {
      "cell_type": "code",
      "source": [
        "data.shape"
      ],
      "metadata": {
        "colab": {
          "base_uri": "https://localhost:8080/"
        },
        "id": "DGUz82xTfx86",
        "outputId": "a644d734-208e-4875-8dfa-3670d7c3a51a"
      },
      "execution_count": 82,
      "outputs": [
        {
          "output_type": "execute_result",
          "data": {
            "text/plain": [
              "(50, 1)"
            ]
          },
          "metadata": {},
          "execution_count": 82
        }
      ]
    },
    {
      "cell_type": "markdown",
      "source": [
        "\n",
        "\n",
        "*   The \".unsqueeze()\" method is used to add a dimension to the tensor. It adds an extra dimension of size 1 at the specified position.\n",
        "\n",
        "* For example, if the tensor has shape (3,), then tensor.unsqueeze(0) would add a dimension of size 1 at the 0th position and produce a tensor of shape (1, 3).\n",
        "\n",
        "\n",
        "```\n",
        "import torch\n",
        "\n",
        "# Creating a tensor of shape (3,)\n",
        "data = torch.tensor([1, 2, 3])\n",
        "print(\"Original tensor shape: \", data.shape)\n",
        "\n",
        "# Adding a dimension of size 1 at the 0th position\n",
        "data = data.unsqueeze(0)\n",
        "print(\"Tensor shape after unsqueeze: \", data.shape)\n",
        "\n",
        "# Output:\n",
        "# Original tensor shape:  torch.Size([3])\n",
        "# Tensor shape after unsqueeze:  torch.Size([1, 3])\n",
        "\n",
        "```\n",
        "\n",
        "\n",
        "\n"
      ],
      "metadata": {
        "id": "fYXCFCUvgSmG"
      }
    },
    {
      "cell_type": "code",
      "source": [
        "test_tensor_data=torch.Tensor(data).unsqueeze(0)"
      ],
      "metadata": {
        "id": "RqblDpe7JqIU"
      },
      "execution_count": 83,
      "outputs": []
    },
    {
      "cell_type": "code",
      "source": [
        "test_tensor_data"
      ],
      "metadata": {
        "id": "nTkbLyn9JqL4",
        "colab": {
          "base_uri": "https://localhost:8080/"
        },
        "outputId": "bb4776a1-67a2-4ac9-e3fe-51186b7b210f"
      },
      "execution_count": 84,
      "outputs": [
        {
          "output_type": "execute_result",
          "data": {
            "text/plain": [
              "tensor([[[0.0000e+00],\n",
              "         [6.4070e-02],\n",
              "         [1.2788e-01],\n",
              "         [1.9116e-01],\n",
              "         [2.5365e-01],\n",
              "         [3.1511e-01],\n",
              "         [3.7527e-01],\n",
              "         [4.3388e-01],\n",
              "         [4.9072e-01],\n",
              "         [5.4553e-01],\n",
              "         [5.9811e-01],\n",
              "         [6.4823e-01],\n",
              "         [6.9568e-01],\n",
              "         [7.4028e-01],\n",
              "         [7.8183e-01],\n",
              "         [8.2017e-01],\n",
              "         [8.5514e-01],\n",
              "         [8.8660e-01],\n",
              "         [9.1441e-01],\n",
              "         [9.3847e-01],\n",
              "         [9.5867e-01],\n",
              "         [9.7493e-01],\n",
              "         [9.8718e-01],\n",
              "         [9.9538e-01],\n",
              "         [9.9949e-01],\n",
              "         [9.9949e-01],\n",
              "         [9.9538e-01],\n",
              "         [9.8718e-01],\n",
              "         [9.7493e-01],\n",
              "         [9.5867e-01],\n",
              "         [9.3847e-01],\n",
              "         [9.1441e-01],\n",
              "         [8.8660e-01],\n",
              "         [8.5514e-01],\n",
              "         [8.2017e-01],\n",
              "         [7.8183e-01],\n",
              "         [7.4028e-01],\n",
              "         [6.9568e-01],\n",
              "         [6.4823e-01],\n",
              "         [5.9811e-01],\n",
              "         [5.4553e-01],\n",
              "         [4.9072e-01],\n",
              "         [4.3388e-01],\n",
              "         [3.7527e-01],\n",
              "         [3.1511e-01],\n",
              "         [2.5365e-01],\n",
              "         [1.9116e-01],\n",
              "         [1.2788e-01],\n",
              "         [6.4070e-02],\n",
              "         [1.2246e-16]]])"
            ]
          },
          "metadata": {},
          "execution_count": 84
        }
      ]
    },
    {
      "cell_type": "code",
      "source": [
        "test_tensor_data.shape"
      ],
      "metadata": {
        "id": "aSMPAl3XJqP1",
        "colab": {
          "base_uri": "https://localhost:8080/"
        },
        "outputId": "dec98b33-4fd5-4013-fd37-b23cacbe08a9"
      },
      "execution_count": 85,
      "outputs": [
        {
          "output_type": "execute_result",
          "data": {
            "text/plain": [
              "torch.Size([1, 50, 1])"
            ]
          },
          "metadata": {},
          "execution_count": 85
        }
      ]
    },
    {
      "cell_type": "code",
      "source": [
        "test_data_output,test_rnn_hidden=test_rnn(test_tensor_data,None)"
      ],
      "metadata": {
        "id": "AqD6O7R-JqTk"
      },
      "execution_count": 86,
      "outputs": []
    },
    {
      "cell_type": "code",
      "source": [
        "test_data_output.size()"
      ],
      "metadata": {
        "id": "LIcGWuwTJqXV",
        "colab": {
          "base_uri": "https://localhost:8080/"
        },
        "outputId": "1514a791-fce5-4f24-cba5-54fdefd67a1c"
      },
      "execution_count": 87,
      "outputs": [
        {
          "output_type": "execute_result",
          "data": {
            "text/plain": [
              "torch.Size([50, 1])"
            ]
          },
          "metadata": {},
          "execution_count": 87
        }
      ]
    },
    {
      "cell_type": "code",
      "source": [
        "test_rnn_hidden.size()"
      ],
      "metadata": {
        "id": "eNGMTU7jJqbI",
        "colab": {
          "base_uri": "https://localhost:8080/"
        },
        "outputId": "e5c34420-b844-42ea-e896-49f5b521045a"
      },
      "execution_count": 88,
      "outputs": [
        {
          "output_type": "execute_result",
          "data": {
            "text/plain": [
              "torch.Size([2, 1, 20])"
            ]
          },
          "metadata": {},
          "execution_count": 88
        }
      ]
    },
    {
      "cell_type": "code",
      "source": [
        "input_size=1\n",
        "output_size=1\n",
        "hidden_dim=50\n",
        "num_layer=1"
      ],
      "metadata": {
        "id": "bh96x1I4erm7"
      },
      "execution_count": 89,
      "outputs": []
    },
    {
      "cell_type": "code",
      "source": [
        "model=RNN(input_size,output_size,hidden_dim,num_layer)"
      ],
      "metadata": {
        "id": "BN4mv70eJqe-"
      },
      "execution_count": 90,
      "outputs": []
    },
    {
      "cell_type": "code",
      "source": [
        "model"
      ],
      "metadata": {
        "id": "n0Y7SZrOJqi-",
        "colab": {
          "base_uri": "https://localhost:8080/"
        },
        "outputId": "58ea6917-6462-45d1-a0bd-0f0226966852"
      },
      "execution_count": 91,
      "outputs": [
        {
          "output_type": "execute_result",
          "data": {
            "text/plain": [
              "RNN(\n",
              "  (rnn): RNN(1, 50, batch_first=True)\n",
              "  (fc): Linear(in_features=50, out_features=1, bias=True)\n",
              ")"
            ]
          },
          "metadata": {},
          "execution_count": 91
        }
      ]
    },
    {
      "cell_type": "code",
      "source": [
        "result=nn.MSELoss()"
      ],
      "metadata": {
        "id": "d5hWbfanJqoI"
      },
      "execution_count": 92,
      "outputs": []
    },
    {
      "cell_type": "code",
      "source": [
        "optimizer=torch.optim.Adam(model.parameters(),lr=0.001)"
      ],
      "metadata": {
        "id": "JzYHV7B6Jqrz"
      },
      "execution_count": 93,
      "outputs": []
    },
    {
      "cell_type": "code",
      "source": [
        "def train_model(model,num_step,get_return):\n",
        "  hidden=None\n",
        " \n",
        "\n",
        "  for batch_initializer,step in enumerate(range(num_step)):\n",
        "\n",
        "    time_step=np.linspace(step*np.pi,(step+1)*np.pi, len+1)\n",
        "    data=np.sin(time_step)\n",
        "    data.resize((len+1,1))\n",
        "    x=data[: -1] #train_data\n",
        "    y=data[1 : ] # target_data\n",
        "\n",
        "    x_tensor=torch.Tensor(x).unsqueeze(0)\n",
        "    y_tensor=torch.Tensor(y)\n",
        "\n",
        "    output,hidden=model(x_tensor,hidden)\n",
        "\n",
        "   \n",
        "    hidden=hidden.data\n",
        "    loss=result(output,y_tensor)\n",
        "    optimizer.zero_grad()\n",
        "    loss.backward()\n",
        "    optimizer.step()\n",
        "\n",
        "    if batch_initializer%get_return==0:\n",
        "      print(\"Loss :\",loss.item())\n",
        "      plt.figure(figsize=(10,6))\n",
        "\n",
        "      plt.plot(time_step[1 :],x,marker=\"8\",color=\"g\",linestyle=\"-.\")\n",
        "      plt.plot(time_step[1 :],output.data.numpy().flatten(),marker=\"s\",color=\"m\",linestyle=\"--\")\n",
        "      plt.show()\n",
        "\n",
        "  return model\n"
      ],
      "metadata": {
        "id": "rvkO424XJrRw"
      },
      "execution_count": 94,
      "outputs": []
    },
    {
      "cell_type": "code",
      "source": [
        "num_step=80\n",
        "get_return=20"
      ],
      "metadata": {
        "id": "Kt-qN-MyJrVM"
      },
      "execution_count": 95,
      "outputs": []
    },
    {
      "cell_type": "code",
      "source": [
        "train_model(model,num_step,get_return)"
      ],
      "metadata": {
        "id": "ZU21j2f7JrY8",
        "colab": {
          "base_uri": "https://localhost:8080/",
          "height": 1000
        },
        "outputId": "34de9583-54dc-4589-c359-ed4887e000f2"
      },
      "execution_count": 96,
      "outputs": [
        {
          "output_type": "stream",
          "name": "stdout",
          "text": [
            "Loss : 0.5957962274551392\n"
          ]
        },
        {
          "output_type": "display_data",
          "data": {
            "text/plain": [
              "<Figure size 720x432 with 1 Axes>"
            ],
            "image/png": "[encoded data removed]"
          },
          "metadata": {
            "needs_background": "light"
          }
        },
        {
          "output_type": "stream",
          "name": "stdout",
          "text": [
            "Loss : 0.18443191051483154\n"
          ]
        },
        {
          "output_type": "display_data",
          "data": {
            "text/plain": [
              "<Figure size 720x432 with 1 Axes>"
            ],
            "image/png": "[encoded data removed]"
          },
          "metadata": {
            "needs_background": "light"
          }
        },
        {
          "output_type": "stream",
          "name": "stdout",
          "text": [
            "Loss : 0.033600062131881714\n"
          ]
        },
        {
          "output_type": "display_data",
          "data": {
            "text/plain": [
              "<Figure size 720x432 with 1 Axes>"
            ],
            "image/png": "[encoded data removed]"
          },
          "metadata": {
            "needs_background": "light"
          }
        },
        {
          "output_type": "stream",
          "name": "stdout",
          "text": [
            "Loss : 0.017382672056555748\n"
          ]
        },
        {
          "output_type": "display_data",
          "data": {
            "text/plain": [
              "<Figure size 720x432 with 1 Axes>"
            ],
            "image/png": "[encoded data removed]"
          },
          "metadata": {
            "needs_background": "light"
          }
        },
        {
          "output_type": "execute_result",
          "data": {
            "text/plain": [
              "RNN(\n",
              "  (rnn): RNN(1, 50, batch_first=True)\n",
              "  (fc): Linear(in_features=50, out_features=1, bias=True)\n",
              ")"
            ]
          },
          "metadata": {},
          "execution_count": 96
        }
      ]
    },
    {
      "cell_type": "code",
      "source": [],
      "metadata": {
        "id": "ErGx4oFOJrdI"
      },
      "execution_count": 96,
      "outputs": []
    },
    {
      "cell_type": "code",
      "source": [],
      "metadata": {
        "id": "39DN87cbJrg_"
      },
      "execution_count": 96,
      "outputs": []
    },
    {
      "cell_type": "code",
      "source": [],
      "metadata": {
        "id": "1GDfE9ruJrk6"
      },
      "execution_count": 96,
      "outputs": []
    },
    {
      "cell_type": "code",
      "source": [],
      "metadata": {
        "id": "iX898iwsJrpT"
      },
      "execution_count": 96,
      "outputs": []
    },
    {
      "cell_type": "code",
      "source": [],
      "metadata": {
        "id": "jAOHLY64Jrxl"
      },
      "execution_count": 96,
      "outputs": []
    },
    {
      "cell_type": "code",
      "source": [],
      "metadata": {
        "id": "9VmdOXX3Jr1T"
      },
      "execution_count": 96,
      "outputs": []
    },
    {
      "cell_type": "code",
      "source": [],
      "metadata": {
        "id": "lSCCjiiWJr57"
      },
      "execution_count": 96,
      "outputs": []
    },
    {
      "cell_type": "code",
      "source": [],
      "metadata": {
        "id": "YXbLtr18Jr9_"
      },
      "execution_count": 96,
      "outputs": []
    },
    {
      "cell_type": "code",
      "source": [],
      "metadata": {
        "id": "iPumABs8JsCA"
      },
      "execution_count": 96,
      "outputs": []
    },
    {
      "cell_type": "code",
      "source": [],
      "metadata": {
        "id": "wpojbauTJsFY"
      },
      "execution_count": 96,
      "outputs": []
    },
    {
      "cell_type": "code",
      "source": [],
      "metadata": {
        "id": "3HTbmRp0JsKc"
      },
      "execution_count": 96,
      "outputs": []
    },
    {
      "cell_type": "code",
      "source": [],
      "metadata": {
        "id": "QvCNLhoZJsOh"
      },
      "execution_count": 96,
      "outputs": []
    },
    {
      "cell_type": "code",
      "source": [],
      "metadata": {
        "id": "WQINPflDJsR_"
      },
      "execution_count": 96,
      "outputs": []
    },
    {
      "cell_type": "code",
      "source": [],
      "metadata": {
        "id": "bnKE0Ir7JsV5"
      },
      "execution_count": 96,
      "outputs": []
    }
  ]
}